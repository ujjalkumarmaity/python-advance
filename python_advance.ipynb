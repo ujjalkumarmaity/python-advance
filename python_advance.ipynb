{
 "cells": [
  {
   "cell_type": "markdown",
   "id": "d71022d0",
   "metadata": {},
   "source": [
    "#### Lambda\n",
    "Lambda is a keyword in Python used to define functions, more specifically Anonymous Functions<br>\n",
    "`lambda arguments: expression`"
   ]
  },
  {
   "cell_type": "code",
   "execution_count": 3,
   "id": "cd408322",
   "metadata": {},
   "outputs": [
    {
     "data": {
      "text/plain": [
       "5"
      ]
     },
     "execution_count": 3,
     "metadata": {},
     "output_type": "execute_result"
    }
   ],
   "source": [
    "sum_fun = lambda a,b : a+b\n",
    "sum_fun(2,3)"
   ]
  },
  {
   "cell_type": "markdown",
   "id": "fbe19948",
   "metadata": {},
   "source": [
    "#### Map\n",
    "- A function that applies a given function to each item of an iterable and returns an iterator.\n",
    "- It provides a faster way to transform an iterable based on the given condition.<br>\n",
    "`map(function, iterable)`"
   ]
  },
  {
   "cell_type": "code",
   "execution_count": 5,
   "id": "f6d642c4",
   "metadata": {},
   "outputs": [
    {
     "data": {
      "text/plain": [
       "[1, 4, 9, 16]"
      ]
     },
     "execution_count": 5,
     "metadata": {},
     "output_type": "execute_result"
    }
   ],
   "source": [
    "sq = lambda x:x**2\n",
    "list(map(sq,[1,2,3,4]))"
   ]
  },
  {
   "cell_type": "markdown",
   "id": "59f905e7",
   "metadata": {},
   "source": [
    "#### Filter\n",
    "- It helps in extracting items from an iterable based on the given condition.<br>\n",
    "`filter(function, iterable)`"
   ]
  },
  {
   "cell_type": "code",
   "execution_count": 6,
   "id": "c95f82b5",
   "metadata": {},
   "outputs": [
    {
     "data": {
      "text/plain": [
       "[2, 4, 6, 8, 10]"
      ]
     },
     "execution_count": 6,
     "metadata": {},
     "output_type": "execute_result"
    }
   ],
   "source": [
    "def is_even(num):\n",
    "    return num % 2 == 0\n",
    "\n",
    "numbers = [1, 2, 3, 4, 5, 6, 7, 8, 9, 10]\n",
    "list(filter(is_even, numbers))"
   ]
  },
  {
   "cell_type": "markdown",
   "id": "8ff0772d",
   "metadata": {},
   "source": [
    "#### Reduce\n",
    "- It applies a function cumulatively/successively on each item of an iterable and returns a single value<br>\n",
    "`reduce(function, iterable, [, initializer])`"
   ]
  },
  {
   "cell_type": "code",
   "execution_count": 9,
   "id": "d1756cf0",
   "metadata": {
    "scrolled": false
   },
   "outputs": [
    {
     "data": {
      "text/plain": [
       "11"
      ]
     },
     "execution_count": 9,
     "metadata": {},
     "output_type": "execute_result"
    }
   ],
   "source": [
    "from functools import reduce\n",
    "sum_fun = lambda x,y:x+y\n",
    "reduce(sum_fun,[1,2,3,5])"
   ]
  },
  {
   "cell_type": "markdown",
   "id": "ef2830e9",
   "metadata": {},
   "source": [
    "#### Generator\n",
    "Generators are a type of iterable, similar to lists or tuples, but with a key difference. Instead of storing all the values in memory at once, generators generate values on-the-fly as they are needed.\n",
    "\n",
    "This makes them memory-efficient and allows them to handle large data sets or infinite sequences.\n",
    "\n",
    "The `yield` statement pauses the function and returns the current value, and the function's state is saved"
   ]
  },
  {
   "cell_type": "code",
   "execution_count": 5,
   "id": "212e5b7a",
   "metadata": {},
   "outputs": [
    {
     "name": "stdout",
     "output_type": "stream",
     "text": [
      "<generator object num_generator at 0x000001BDBF0E3990>\n",
      "0\n",
      "1\n",
      "2\n",
      "3\n",
      "4\n"
     ]
    }
   ],
   "source": [
    "def num_generator(n):\n",
    "    for i in range(n):\n",
    "        yield i\n",
    "num = num_generator(5)\n",
    "print(num)\n",
    "\n",
    "# Iterating over the generator\n",
    "for i in num:\n",
    "    print(i)"
   ]
  },
  {
   "cell_type": "markdown",
   "id": "156d235e",
   "metadata": {},
   "source": [
    "#### Decorator\n",
    "Decorator is a design pattern that allows you to modify or extend the behavior of a function or class without directly modifying its source code.\n",
    "\n",
    "Decorators are implemented using the \"@\" symbol followed by the decorator function or class name, which is then placed directly before the function or class definition."
   ]
  },
  {
   "cell_type": "code",
   "execution_count": 16,
   "id": "4f074517",
   "metadata": {},
   "outputs": [
    {
     "name": "stdout",
     "output_type": "stream",
     "text": [
      "start main function\n",
      "start decorator fun\n",
      "end main function\n"
     ]
    },
    {
     "data": {
      "text/plain": [
       "1"
      ]
     },
     "execution_count": 16,
     "metadata": {},
     "output_type": "execute_result"
    }
   ],
   "source": [
    "def main_fun(func,a=10):\n",
    "    print(\"start main function\")\n",
    "    func()\n",
    "    print(\"end main function\")\n",
    "    return 1\n",
    "\n",
    "@main_fun\n",
    "def fun():\n",
    "    print(\"start decorator fun\")\n",
    "    \n",
    "fun"
   ]
  },
  {
   "cell_type": "markdown",
   "id": "be7dc229",
   "metadata": {},
   "source": [
    "# Class"
   ]
  },
  {
   "cell_type": "markdown",
   "id": "54321b02",
   "metadata": {},
   "source": [
    "#### init function\n",
    "- In Python, `__init__() `is a special method (also known as a constructor) that is automatically called when you create an object of a class. It is used to initialize the attributes of the object.\n",
    "\n",
    "- Inside the __init__() method, you can define statements that initialize the attributes of the object"
   ]
  },
  {
   "cell_type": "markdown",
   "id": "912f5996",
   "metadata": {},
   "source": [
    "## Inheritance"
   ]
  },
  {
   "cell_type": "markdown",
   "id": "55882856",
   "metadata": {},
   "source": [
    "Inheritance allows us to define a class that inherits all the methods and properties from another class.\n",
    "\n",
    "**Parent class** is the class being inherited from, also called base class.\n",
    "\n",
    "**Child class** is the class that inherits from another class, also called derived class.\n",
    "\n",
    "When you add the `__init__()` function, the child class will no longer inherit the parent's `__init__()` function.\n",
    "\n",
    "```python\n",
    "class Student(Person):\n",
    "  def __init__(self, fname, lname):\n",
    "```\n",
    "\n",
    "To keep the inheritance of the parent's `__init__()` function, add a call to the parent's `__init__()` function:\n",
    "\n",
    "```python\n",
    "class Student(Person):\n",
    "  def __init__(self, fname, lname):\n",
    "    Person.__init__(self, fname, lname)\n",
    "```\n",
    "\n",
    "`super()` function that will make the child class inherit all the methods and properties from its parent\n",
    "\n",
    "```python\n",
    "class Student(Person):\n",
    "  def __init__(self, fname, lname):\n",
    "    super().__init__(fname, lname)\n",
    "```"
   ]
  },
  {
   "cell_type": "code",
   "execution_count": 13,
   "id": "5b3c0490",
   "metadata": {},
   "outputs": [
    {
     "name": "stdout",
     "output_type": "stream",
     "text": [
      "Welcome Mike Olsen to the class of 2023\n"
     ]
    }
   ],
   "source": [
    "class Person:\n",
    "    def __init__(self, fname, lname):\n",
    "        self.firstname = fname\n",
    "        self.lastname = lname\n",
    "\n",
    "    def printname(self):\n",
    "        print(self.firstname, self.lastname)\n",
    "\n",
    "class Student(Person):\n",
    "    def __init__(self, fname, lname, year):\n",
    "        super().__init__(fname, lname)\n",
    "        self.graduationyear = year\n",
    "\n",
    "    def printstd(self):\n",
    "        print(\"Welcome\", self.firstname, self.lastname, \"to the class of\", self.graduationyear)\n",
    "\n",
    "x = Student(\"Mike\", \"Olsen\", 2023)\n",
    "x.printstd()"
   ]
  },
  {
   "cell_type": "code",
   "execution_count": null,
   "id": "d8e0b7fa",
   "metadata": {},
   "outputs": [],
   "source": []
  },
  {
   "cell_type": "code",
   "execution_count": null,
   "id": "8158ce6d",
   "metadata": {},
   "outputs": [],
   "source": []
  },
  {
   "cell_type": "markdown",
   "id": "320a9903",
   "metadata": {},
   "source": [
    "# RegEx"
   ]
  },
  {
   "cell_type": "markdown",
   "id": "648f7eaf",
   "metadata": {},
   "source": [
    "1. \\d: Matches any digit (0-9).\n",
    "2. \\D: Matches any non-digit character.\n",
    "3. \\w: Matches any alphanumeric character (a-z, A-Z, 0-9, and underscore _).\n",
    "4. \\W: Matches any non-alphanumeric character.\n",
    "5. \\s: Matches any whitespace character (space, tab, newline).\n",
    "6. \\S: Matches any non-whitespace character.\n",
    "7. .: Matches any character except a newline.\n",
    "8. ^: Matches the start of a string.\n",
    "9. $: Matches the end of a string.\n",
    "10. []: Matches any character inside the brackets. For example, [aeiou] matches any vowel.\n",
    "11. [^]: Matches any character not inside the brackets. For example, [^aeiou] matches any consonant.\n",
    "12. *: Matches zero or more occurrences of the previous pattern.\n",
    "13. +: Matches one or more occurrences of the previous pattern.\n",
    "14. ?: Matches zero or one occurrence of the previous pattern.\n",
    "15. {n}: Matches exactly n occurrences of the previous pattern.\n",
    "16. {n,}: Matches n or more occurrences of the previous pattern.\n",
    "17. {n,m}: Matches between n and m occurrences of the previous pattern.\n",
    "18. |: Matches either the pattern on the left or the pattern on the right.\n",
    "19. (): Groups patterns together.\n",
    "20. (?i): Performs a case-insensitive match.\n",
    "21. (?m): Enables multiline matching."
   ]
  },
  {
   "cell_type": "code",
   "execution_count": null,
   "id": "68929b78",
   "metadata": {},
   "outputs": [],
   "source": []
  }
 ],
 "metadata": {
  "kernelspec": {
   "display_name": "Python 3 (ipykernel)",
   "language": "python",
   "name": "python3"
  },
  "language_info": {
   "codemirror_mode": {
    "name": "ipython",
    "version": 3
   },
   "file_extension": ".py",
   "mimetype": "text/x-python",
   "name": "python",
   "nbconvert_exporter": "python",
   "pygments_lexer": "ipython3",
   "version": "3.10.9"
  }
 },
 "nbformat": 4,
 "nbformat_minor": 5
}
